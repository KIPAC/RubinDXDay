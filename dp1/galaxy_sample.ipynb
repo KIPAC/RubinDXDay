{
 "cells": [
  {
   "cell_type": "markdown",
   "id": "b7831815-b4c7-4af5-bd8e-7ad4bf900114",
   "metadata": {},
   "source": [
    "# DP 1 notebook to make a color diagram of objects in EDFS\n",
    "\n",
    "Contributors: Agnes, Prakruth, Katherine, Brittney, Jackie, Eric, Sid, Alex "
   ]
  },
  {
   "cell_type": "code",
   "execution_count": 47,
   "id": "1aed424e-d965-4d0d-9b05-8caadae12c25",
   "metadata": {
    "execution": {
     "iopub.execute_input": "2025-07-11T18:37:33.465323Z",
     "iopub.status.busy": "2025-07-11T18:37:33.464436Z",
     "iopub.status.idle": "2025-07-11T18:37:33.468963Z",
     "shell.execute_reply": "2025-07-11T18:37:33.468326Z",
     "shell.execute_reply.started": "2025-07-11T18:37:33.465285Z"
    }
   },
   "outputs": [],
   "source": [
    "import re\n",
    "import numpy as np\n",
    "import matplotlib.pyplot as plt\n",
    "import lsst.sphgeom as sphgeom\n",
    "from astropy import units as u\n",
    "from lsst.daf.butler import Butler"
   ]
  },
  {
   "cell_type": "code",
   "execution_count": 3,
   "id": "69648830-9e0c-474f-b282-080af4efb65b",
   "metadata": {
    "execution": {
     "iopub.execute_input": "2025-07-11T17:57:27.486369Z",
     "iopub.status.busy": "2025-07-11T17:57:27.485725Z",
     "iopub.status.idle": "2025-07-11T17:57:27.636603Z",
     "shell.execute_reply": "2025-07-11T17:57:27.635989Z",
     "shell.execute_reply.started": "2025-07-11T17:57:27.486341Z"
    }
   },
   "outputs": [],
   "source": [
    "butler = Butler('dp1', collections=\"LSSTComCam/DP1\")"
   ]
  },
  {
   "cell_type": "code",
   "execution_count": 5,
   "id": "7117be24-109b-4530-9630-8910597352c2",
   "metadata": {
    "execution": {
     "iopub.execute_input": "2025-07-11T18:08:53.744887Z",
     "iopub.status.busy": "2025-07-11T18:08:53.744092Z",
     "iopub.status.idle": "2025-07-11T18:08:53.748011Z",
     "shell.execute_reply": "2025-07-11T18:08:53.747383Z",
     "shell.execute_reply.started": "2025-07-11T18:08:53.744859Z"
    }
   },
   "outputs": [],
   "source": [
    "ra =  np.arange(58.75, 59.5, 0.1)\n",
    "dec = np.arange(-48.6, -49, 0.1)"
   ]
  },
  {
   "cell_type": "code",
   "execution_count": 12,
   "id": "9e71dd85-b193-4856-931d-ee89e10882fb",
   "metadata": {
    "execution": {
     "iopub.execute_input": "2025-07-11T18:15:43.132897Z",
     "iopub.status.busy": "2025-07-11T18:15:43.132129Z",
     "iopub.status.idle": "2025-07-11T18:15:43.136090Z",
     "shell.execute_reply": "2025-07-11T18:15:43.135404Z",
     "shell.execute_reply.started": "2025-07-11T18:15:43.132870Z"
    }
   },
   "outputs": [],
   "source": [
    "# radius is in degree\n",
    "string_edfs = \"CIRCLE 59.15 -48.73 1.\"\n",
    "region_edfs = sphgeom.Region.from_ivoa_pos(string_edfs)"
   ]
  },
  {
   "cell_type": "code",
   "execution_count": 107,
   "id": "62e77fc9-9468-4842-bb6b-2130c8ff8d07",
   "metadata": {
    "execution": {
     "iopub.execute_input": "2025-07-11T20:05:52.500348Z",
     "iopub.status.busy": "2025-07-11T20:05:52.499451Z",
     "iopub.status.idle": "2025-07-11T20:05:52.503509Z",
     "shell.execute_reply": "2025-07-11T20:05:52.502977Z",
     "shell.execute_reply.started": "2025-07-11T20:05:52.500315Z"
    }
   },
   "outputs": [],
   "source": [
    "string_sv = \"CIRCLE 37.86 6.982 1.\"\n",
    "region_sv = sphgeom.Region.from_ivoa_pos(string_sv)"
   ]
  },
  {
   "cell_type": "code",
   "execution_count": 13,
   "id": "f8e307c3-e397-4995-a819-d0a714d7d001",
   "metadata": {
    "execution": {
     "iopub.execute_input": "2025-07-11T18:17:16.375363Z",
     "iopub.status.busy": "2025-07-11T18:17:16.374513Z",
     "iopub.status.idle": "2025-07-11T18:17:16.379549Z",
     "shell.execute_reply": "2025-07-11T18:17:16.378983Z",
     "shell.execute_reply.started": "2025-07-11T18:17:16.375331Z"
    }
   },
   "outputs": [
    {
     "data": {
      "text/plain": [
       "Circle(UnitVector3d(0.33824198392581173, 0.5662820495298008, -0.7516096065712965), Angle(0.017453292519943295))"
      ]
     },
     "execution_count": 13,
     "metadata": {},
     "output_type": "execute_result"
    }
   ],
   "source": [
    "region_edfs"
   ]
  },
  {
   "cell_type": "code",
   "execution_count": 108,
   "id": "6552c2a3-1483-419c-b88c-c7b4963e8f8a",
   "metadata": {
    "execution": {
     "iopub.execute_input": "2025-07-11T20:06:02.173689Z",
     "iopub.status.busy": "2025-07-11T20:06:02.172997Z",
     "iopub.status.idle": "2025-07-11T20:06:02.176892Z",
     "shell.execute_reply": "2025-07-11T20:06:02.176336Z",
     "shell.execute_reply.started": "2025-07-11T20:06:02.173655Z"
    }
   },
   "outputs": [],
   "source": [
    "query = \"visit.region OVERLAPS :region\"\n",
    "bind_params = {'region': region_sv}\n"
   ]
  },
  {
   "cell_type": "code",
   "execution_count": 109,
   "id": "5c7ea513-bd36-4c78-a328-a11d8f485103",
   "metadata": {
    "execution": {
     "iopub.execute_input": "2025-07-11T20:06:20.246231Z",
     "iopub.status.busy": "2025-07-11T20:06:20.245416Z",
     "iopub.status.idle": "2025-07-11T20:06:20.395107Z",
     "shell.execute_reply": "2025-07-11T20:06:20.394282Z",
     "shell.execute_reply.started": "2025-07-11T20:06:20.246200Z"
    }
   },
   "outputs": [],
   "source": [
    "dp1_object_sv_refs = butler.query_datasets('object',where=query,bind=bind_params)"
   ]
  },
  {
   "cell_type": "code",
   "execution_count": 26,
   "id": "210e2c3c-fded-46fd-83a6-e97d3a497aa1",
   "metadata": {
    "execution": {
     "iopub.execute_input": "2025-07-11T18:24:38.751610Z",
     "iopub.status.busy": "2025-07-11T18:24:38.750740Z",
     "iopub.status.idle": "2025-07-11T18:24:38.826175Z",
     "shell.execute_reply": "2025-07-11T18:24:38.825550Z",
     "shell.execute_reply.started": "2025-07-11T18:24:38.751577Z"
    }
   },
   "outputs": [],
   "source": [
    "\n",
    "dp1_object_edfs_refs = butler.query_datasets('object',where=query,bind=bind_params)\n"
   ]
  },
  {
   "cell_type": "code",
   "execution_count": 111,
   "id": "4b763308-0745-47ca-98aa-60723e5b7ad7",
   "metadata": {
    "execution": {
     "iopub.execute_input": "2025-07-11T20:06:44.616317Z",
     "iopub.status.busy": "2025-07-11T20:06:44.615908Z",
     "iopub.status.idle": "2025-07-11T20:06:44.621077Z",
     "shell.execute_reply": "2025-07-11T20:06:44.620491Z",
     "shell.execute_reply.started": "2025-07-11T20:06:44.616287Z"
    }
   },
   "outputs": [
    {
     "data": {
      "text/plain": [
       "[DatasetRef(DatasetType('object', {skymap, tract}, ArrowAstropy), {skymap: 'lsst_cells_v1', tract: 2234}, run='LSSTComCam/runs/DRP/DP1/v29_0_0/DM-50260/20250417T034317Z', id=fed1b9bf-6e0a-41a1-8fcb-7d2f077e2fdf),\n",
       " DatasetRef(DatasetType('object', {skymap, tract}, ArrowAstropy), {skymap: 'lsst_cells_v1', tract: 2393}, run='LSSTComCam/runs/DRP/DP1/v29_0_0/DM-50260/20250417T034317Z', id=7c0c2fe1-7044-4b49-bb42-5deb169e7821),\n",
       " DatasetRef(DatasetType('object', {skymap, tract}, ArrowAstropy), {skymap: 'lsst_cells_v1', tract: 2394}, run='LSSTComCam/runs/DRP/DP1/v29_0_0/DM-50260/20250417T034317Z', id=3b588e46-f812-4a8a-b9a3-813d5d829e73),\n",
       " DatasetRef(DatasetType('object', {skymap, tract}, ArrowAstropy), {skymap: 'lsst_cells_v1', tract: 2235}, run='LSSTComCam/runs/DRP/DP1/v29_0_0/DM-50260/20250417T034317Z', id=0b0d8db0-e247-4b55-af3e-df62cad963bd)]"
      ]
     },
     "execution_count": 111,
     "metadata": {},
     "output_type": "execute_result"
    }
   ],
   "source": [
    "dp1_object_edfs_refs"
   ]
  },
  {
   "cell_type": "code",
   "execution_count": 33,
   "id": "6067c763-13a8-4e31-a743-fc26cca0043d",
   "metadata": {
    "execution": {
     "iopub.execute_input": "2025-07-11T18:26:39.501376Z",
     "iopub.status.busy": "2025-07-11T18:26:39.501049Z",
     "iopub.status.idle": "2025-07-11T18:26:39.506020Z",
     "shell.execute_reply": "2025-07-11T18:26:39.505385Z",
     "shell.execute_reply.started": "2025-07-11T18:26:39.501341Z"
    }
   },
   "outputs": [
    {
     "data": {
      "text/plain": [
       "[DatasetRef(DatasetType('object', {skymap, tract}, ArrowAstropy), {skymap: 'lsst_cells_v1', tract: 2234}, run='LSSTComCam/runs/DRP/DP1/v29_0_0/DM-50260/20250417T034317Z', id=fed1b9bf-6e0a-41a1-8fcb-7d2f077e2fdf),\n",
       " DatasetRef(DatasetType('object', {skymap, tract}, ArrowAstropy), {skymap: 'lsst_cells_v1', tract: 2393}, run='LSSTComCam/runs/DRP/DP1/v29_0_0/DM-50260/20250417T034317Z', id=7c0c2fe1-7044-4b49-bb42-5deb169e7821),\n",
       " DatasetRef(DatasetType('object', {skymap, tract}, ArrowAstropy), {skymap: 'lsst_cells_v1', tract: 2394}, run='LSSTComCam/runs/DRP/DP1/v29_0_0/DM-50260/20250417T034317Z', id=3b588e46-f812-4a8a-b9a3-813d5d829e73),\n",
       " DatasetRef(DatasetType('object', {skymap, tract}, ArrowAstropy), {skymap: 'lsst_cells_v1', tract: 2235}, run='LSSTComCam/runs/DRP/DP1/v29_0_0/DM-50260/20250417T034317Z', id=0b0d8db0-e247-4b55-af3e-df62cad963bd)]"
      ]
     },
     "execution_count": 33,
     "metadata": {},
     "output_type": "execute_result"
    }
   ],
   "source": [
    "dp1_object_edfs_refs"
   ]
  },
  {
   "cell_type": "code",
   "execution_count": 110,
   "id": "087f9881-7371-461b-bb92-010012461769",
   "metadata": {
    "execution": {
     "iopub.execute_input": "2025-07-11T20:06:38.345099Z",
     "iopub.status.busy": "2025-07-11T20:06:38.344372Z",
     "iopub.status.idle": "2025-07-11T20:06:41.071855Z",
     "shell.execute_reply": "2025-07-11T20:06:41.071170Z",
     "shell.execute_reply.started": "2025-07-11T20:06:38.345066Z"
    }
   },
   "outputs": [],
   "source": [
    "column_names = ['coord_ra', 'coord_dec', 'g_cModelFlux', 'g_cModel_flag', \n",
    "                'i_cModelFlux', 'i_cModel_flag', 'r_cModelFlux', 'r_cModel_flag',\n",
    "               'g_extendedness', 'r_extendedness', 'i_extendedness']\n",
    "dp1_object_sv = butler.get(dp1_object_sv_refs[0], parameters={'columns': column_names})"
   ]
  },
  {
   "cell_type": "code",
   "execution_count": 120,
   "id": "22abf129-bf45-41eb-bb2d-cacd5162e1d1",
   "metadata": {
    "execution": {
     "iopub.execute_input": "2025-07-11T20:12:01.371319Z",
     "iopub.status.busy": "2025-07-11T20:12:01.370907Z",
     "iopub.status.idle": "2025-07-11T20:12:04.106871Z",
     "shell.execute_reply": "2025-07-11T20:12:04.106205Z",
     "shell.execute_reply.started": "2025-07-11T20:12:01.371289Z"
    }
   },
   "outputs": [],
   "source": [
    "column_names = ['coord_ra', 'coord_dec', 'g_cModelFlux', 'g_cModel_flag', \n",
    "                'i_cModelFlux', 'i_cModel_flag', 'r_cModelFlux', 'r_cModel_flag',\n",
    "               'g_extendedness', 'r_extendedness', 'i_extendedness', 'g_extendedness_flag', 'r_extendedness_flag', 'i_extendedness_flag']\n",
    "dp1_object_edfs = butler.get(dp1_object_edfs_refs[0], parameters={'columns': column_names})"
   ]
  },
  {
   "cell_type": "code",
   "execution_count": 75,
   "id": "b54ebd11-21f4-4a76-87bb-aaedd6d27e47",
   "metadata": {
    "execution": {
     "iopub.execute_input": "2025-07-11T19:27:08.831300Z",
     "iopub.status.busy": "2025-07-11T19:27:08.830813Z",
     "iopub.status.idle": "2025-07-11T19:27:08.835476Z",
     "shell.execute_reply": "2025-07-11T19:27:08.834972Z",
     "shell.execute_reply.started": "2025-07-11T19:27:08.831275Z"
    }
   },
   "outputs": [
    {
     "data": {
      "text/plain": [
       "50285"
      ]
     },
     "execution_count": 75,
     "metadata": {},
     "output_type": "execute_result"
    }
   ],
   "source": [
    "len(dp1_object_edfs['g_cModelFlux'])"
   ]
  },
  {
   "cell_type": "code",
   "execution_count": 44,
   "id": "dd81d444-4ae7-4fd0-b2ac-c7acd3403656",
   "metadata": {
    "execution": {
     "iopub.execute_input": "2025-07-11T18:34:24.150900Z",
     "iopub.status.busy": "2025-07-11T18:34:24.150110Z",
     "iopub.status.idle": "2025-07-11T18:34:24.156516Z",
     "shell.execute_reply": "2025-07-11T18:34:24.155884Z",
     "shell.execute_reply.started": "2025-07-11T18:34:24.150861Z"
    }
   },
   "outputs": [
    {
     "data": {
      "text/plain": [
       "45608"
      ]
     },
     "execution_count": 44,
     "metadata": {},
     "output_type": "execute_result"
    }
   ],
   "source": [
    "len(dp1_object_edfs['g_cModelFlux'][ dp1_object_edfs['g_cModel_flag'] == False])"
   ]
  },
  {
   "cell_type": "code",
   "execution_count": 55,
   "id": "462cf611-6f58-4075-a33d-1649351d5662",
   "metadata": {
    "execution": {
     "iopub.execute_input": "2025-07-11T18:40:08.150134Z",
     "iopub.status.busy": "2025-07-11T18:40:08.149302Z",
     "iopub.status.idle": "2025-07-11T18:40:08.159645Z",
     "shell.execute_reply": "2025-07-11T18:40:08.159067Z",
     "shell.execute_reply.started": "2025-07-11T18:40:08.150099Z"
    }
   },
   "outputs": [],
   "source": [
    "\n",
    "dp1_object_edfs_rMag = u.nJy.to( u.ABmag, dp1_object_edfs['r_cModelFlux'])\n",
    "dp1_object_edfs_gMag = u.nJy.to( u.ABmag, dp1_object_edfs['g_cModelFlux'])\n",
    "dp1_object_edfs_iMag = u.nJy.to( u.ABmag, dp1_object_edfs['i_cModelFlux'])\n",
    "\n"
   ]
  },
  {
   "cell_type": "code",
   "execution_count": 85,
   "id": "eed9dbdb-4df1-4a6f-8f28-d700bb6a5077",
   "metadata": {
    "execution": {
     "iopub.execute_input": "2025-07-11T19:55:01.179636Z",
     "iopub.status.busy": "2025-07-11T19:55:01.178868Z",
     "iopub.status.idle": "2025-07-11T19:55:01.185665Z",
     "shell.execute_reply": "2025-07-11T19:55:01.185105Z",
     "shell.execute_reply.started": "2025-07-11T19:55:01.179599Z"
    }
   },
   "outputs": [
    {
     "data": {
      "text/plain": [
       "masked_array(data=[--, --, --, ..., --, --, --],\n",
       "             mask=[ True,  True,  True, ...,  True,  True,  True],\n",
       "       fill_value=True)"
      ]
     },
     "execution_count": 85,
     "metadata": {},
     "output_type": "execute_result"
    }
   ],
   "source": [
    "# \n",
    "\n",
    "dp1_object_edfs['g_extendedness'] == 1"
   ]
  },
  {
   "cell_type": "code",
   "execution_count": 117,
   "id": "f32f50ab-8708-4017-9755-e8e54b38afc4",
   "metadata": {
    "execution": {
     "iopub.execute_input": "2025-07-11T20:08:43.880853Z",
     "iopub.status.busy": "2025-07-11T20:08:43.880003Z",
     "iopub.status.idle": "2025-07-11T20:08:43.888762Z",
     "shell.execute_reply": "2025-07-11T20:08:43.888214Z",
     "shell.execute_reply.started": "2025-07-11T20:08:43.880821Z"
    }
   },
   "outputs": [
    {
     "name": "stdout",
     "output_type": "stream",
     "text": [
      "g =  1892\n",
      "i =  3121\n",
      "r =  2246\n"
     ]
    }
   ],
   "source": [
    "mask_stars_sv = (dp1_object_sv['g_extendedness'] == 0) & (dp1_object_sv['r_extendedness'] == 0) & (dp1_object_sv['i_extendedness'] == 0)  \n",
    "\n",
    "\n",
    "\n",
    "np.sum(mask_stars_sv)\n",
    "\n",
    "print('g = ', np.sum(dp1_object_sv['g_extendedness'] == 0))\n",
    "print('i = ', np.sum(dp1_object_sv['i_extendedness'] == 0))\n",
    "print('r = ', np.sum(dp1_object_sv['r_extendedness'] == 0))\n",
    "\n"
   ]
  },
  {
   "cell_type": "code",
   "execution_count": 123,
   "id": "ade63cb3-8430-40ac-a862-9b1b97e91ee9",
   "metadata": {
    "execution": {
     "iopub.execute_input": "2025-07-11T20:12:35.824212Z",
     "iopub.status.busy": "2025-07-11T20:12:35.823552Z",
     "iopub.status.idle": "2025-07-11T20:12:35.829559Z",
     "shell.execute_reply": "2025-07-11T20:12:35.829010Z",
     "shell.execute_reply.started": "2025-07-11T20:12:35.824176Z"
    }
   },
   "outputs": [
    {
     "name": "stdout",
     "output_type": "stream",
     "text": [
      "g =  29989\n",
      "i =  24744\n",
      "r =  29763\n"
     ]
    }
   ],
   "source": [
    "print('g = ', np.sum(dp1_object_edfs['g_extendedness_flag'] == True))\n",
    "print('i = ', np.sum(dp1_object_edfs['i_extendedness_flag'] == True))\n",
    "print('r = ', np.sum(dp1_object_edfs['r_extendedness_flag'] == True))\n",
    "\n",
    "\n"
   ]
  },
  {
   "cell_type": "code",
   "execution_count": 127,
   "id": "02cebc87-ae61-4864-bc2c-177a3d661be3",
   "metadata": {
    "execution": {
     "iopub.execute_input": "2025-07-11T20:17:36.209239Z",
     "iopub.status.busy": "2025-07-11T20:17:36.208395Z",
     "iopub.status.idle": "2025-07-11T20:17:36.215835Z",
     "shell.execute_reply": "2025-07-11T20:17:36.215266Z",
     "shell.execute_reply.started": "2025-07-11T20:17:36.209194Z"
    }
   },
   "outputs": [],
   "source": [
    "# Mask to cut stars\n",
    "# galaxies are: \n",
    "# they pass extendedness flag and\n",
    "# they are extended\n",
    "\n",
    "galaxies_g = (dp1_object_edfs['g_extendedness_flag'] == False) & (dp1_object_edfs['g_extendedness'] == 1)\n",
    "galaxies_r = (dp1_object_edfs['r_extendedness_flag'] == False) & (dp1_object_edfs['r_extendedness'] == 1)\n",
    "galaxies_i = (dp1_object_edfs['i_extendedness_flag'] == False) & (dp1_object_edfs['i_extendedness'] == 1)\n",
    "\n",
    "\n",
    "\n",
    "\n"
   ]
  },
  {
   "cell_type": "code",
   "execution_count": 156,
   "id": "c6d83b7a-255c-4757-8952-c9c13dfa7d04",
   "metadata": {
    "execution": {
     "iopub.execute_input": "2025-07-11T20:51:54.202337Z",
     "iopub.status.busy": "2025-07-11T20:51:54.201559Z",
     "iopub.status.idle": "2025-07-11T20:51:54.205475Z",
     "shell.execute_reply": "2025-07-11T20:51:54.204899Z",
     "shell.execute_reply.started": "2025-07-11T20:51:54.202308Z"
    }
   },
   "outputs": [],
   "source": [
    "index_galaxies_g = np.where(galaxies_g.data == True)[0]"
   ]
  },
  {
   "cell_type": "code",
   "execution_count": 157,
   "id": "f97de096-3ce2-49cb-b879-0c1bb61bd1b3",
   "metadata": {
    "execution": {
     "iopub.execute_input": "2025-07-11T20:51:54.935266Z",
     "iopub.status.busy": "2025-07-11T20:51:54.934631Z",
     "iopub.status.idle": "2025-07-11T20:51:54.938423Z",
     "shell.execute_reply": "2025-07-11T20:51:54.937856Z",
     "shell.execute_reply.started": "2025-07-11T20:51:54.935238Z"
    }
   },
   "outputs": [],
   "source": [
    "index_galaxies_r = np.where(galaxies_r.data == True)[0]"
   ]
  },
  {
   "cell_type": "code",
   "execution_count": 158,
   "id": "eb27281c-dfea-4f37-826c-094956e720f4",
   "metadata": {
    "execution": {
     "iopub.execute_input": "2025-07-11T20:51:55.421675Z",
     "iopub.status.busy": "2025-07-11T20:51:55.420980Z",
     "iopub.status.idle": "2025-07-11T20:51:55.424648Z",
     "shell.execute_reply": "2025-07-11T20:51:55.424129Z",
     "shell.execute_reply.started": "2025-07-11T20:51:55.421647Z"
    }
   },
   "outputs": [],
   "source": [
    "index_galaxies_i = np.where(galaxies_i.data == True)[0]"
   ]
  },
  {
   "cell_type": "code",
   "execution_count": 161,
   "id": "6c517c7d-f13b-4896-aff9-364eb7c88880",
   "metadata": {
    "execution": {
     "iopub.execute_input": "2025-07-11T20:52:04.135347Z",
     "iopub.status.busy": "2025-07-11T20:52:04.134643Z",
     "iopub.status.idle": "2025-07-11T20:52:04.139519Z",
     "shell.execute_reply": "2025-07-11T20:52:04.138892Z",
     "shell.execute_reply.started": "2025-07-11T20:52:04.135312Z"
    }
   },
   "outputs": [
    {
     "data": {
      "text/plain": [
       "14980"
      ]
     },
     "execution_count": 161,
     "metadata": {},
     "output_type": "execute_result"
    }
   ],
   "source": [
    "len(index_galaxies_g)"
   ]
  },
  {
   "cell_type": "code",
   "execution_count": 162,
   "id": "d8b05f27-1dac-439c-918a-7ab4b77892c9",
   "metadata": {
    "execution": {
     "iopub.execute_input": "2025-07-11T20:52:18.449564Z",
     "iopub.status.busy": "2025-07-11T20:52:18.448897Z",
     "iopub.status.idle": "2025-07-11T20:52:18.453990Z",
     "shell.execute_reply": "2025-07-11T20:52:18.453333Z",
     "shell.execute_reply.started": "2025-07-11T20:52:18.449536Z"
    }
   },
   "outputs": [
    {
     "data": {
      "text/plain": [
       "15508"
      ]
     },
     "execution_count": 162,
     "metadata": {},
     "output_type": "execute_result"
    }
   ],
   "source": [
    "len(index_galaxies_r)"
   ]
  },
  {
   "cell_type": "code",
   "execution_count": 163,
   "id": "a8fd0bd4-6fca-465c-b7ab-a6a0269491f5",
   "metadata": {
    "execution": {
     "iopub.execute_input": "2025-07-11T20:52:21.625181Z",
     "iopub.status.busy": "2025-07-11T20:52:21.624841Z",
     "iopub.status.idle": "2025-07-11T20:52:21.629434Z",
     "shell.execute_reply": "2025-07-11T20:52:21.628862Z",
     "shell.execute_reply.started": "2025-07-11T20:52:21.625156Z"
    }
   },
   "outputs": [
    {
     "data": {
      "text/plain": [
       "19346"
      ]
     },
     "execution_count": 163,
     "metadata": {},
     "output_type": "execute_result"
    }
   ],
   "source": [
    "len(index_galaxies_i)"
   ]
  },
  {
   "cell_type": "code",
   "execution_count": 164,
   "id": "7a35649b-de27-44fb-8494-f89d766a89bc",
   "metadata": {
    "execution": {
     "iopub.execute_input": "2025-07-11T20:53:10.511629Z",
     "iopub.status.busy": "2025-07-11T20:53:10.511297Z",
     "iopub.status.idle": "2025-07-11T20:53:10.516358Z",
     "shell.execute_reply": "2025-07-11T20:53:10.515748Z",
     "shell.execute_reply.started": "2025-07-11T20:53:10.511606Z"
    }
   },
   "outputs": [
    {
     "data": {
      "text/plain": [
       "array([    1,     4,     5, ..., 49881, 49981, 49987], shape=(19346,))"
      ]
     },
     "execution_count": 164,
     "metadata": {},
     "output_type": "execute_result"
    }
   ],
   "source": [
    "index_galaxies_i"
   ]
  },
  {
   "cell_type": "code",
   "execution_count": 165,
   "id": "e0e1b27c-2c66-4b50-a318-274b5063a486",
   "metadata": {
    "execution": {
     "iopub.execute_input": "2025-07-11T20:53:16.300416Z",
     "iopub.status.busy": "2025-07-11T20:53:16.300084Z",
     "iopub.status.idle": "2025-07-11T20:53:16.304983Z",
     "shell.execute_reply": "2025-07-11T20:53:16.304414Z",
     "shell.execute_reply.started": "2025-07-11T20:53:16.300395Z"
    }
   },
   "outputs": [
    {
     "data": {
      "text/plain": [
       "array([    8,    23,    24, ..., 50268, 50269, 50271], shape=(15508,))"
      ]
     },
     "execution_count": 165,
     "metadata": {},
     "output_type": "execute_result"
    }
   ],
   "source": [
    "index_galaxies_r"
   ]
  },
  {
   "cell_type": "code",
   "execution_count": 128,
   "id": "ca74e9b1-64c1-4f9f-858d-9fe1a23c0e08",
   "metadata": {
    "execution": {
     "iopub.execute_input": "2025-07-11T20:17:44.840567Z",
     "iopub.status.busy": "2025-07-11T20:17:44.839738Z",
     "iopub.status.idle": "2025-07-11T20:17:44.845421Z",
     "shell.execute_reply": "2025-07-11T20:17:44.844822Z",
     "shell.execute_reply.started": "2025-07-11T20:17:44.840525Z"
    }
   },
   "outputs": [
    {
     "data": {
      "text/plain": [
       "np.int64(14980)"
      ]
     },
     "execution_count": 128,
     "metadata": {},
     "output_type": "execute_result"
    }
   ],
   "source": [
    "np.sum(galaxies_g)"
   ]
  },
  {
   "cell_type": "code",
   "execution_count": 129,
   "id": "602c97f5-237b-47dd-b404-b072b363df57",
   "metadata": {
    "execution": {
     "iopub.execute_input": "2025-07-11T20:17:58.854998Z",
     "iopub.status.busy": "2025-07-11T20:17:58.854155Z",
     "iopub.status.idle": "2025-07-11T20:17:58.859646Z",
     "shell.execute_reply": "2025-07-11T20:17:58.859080Z",
     "shell.execute_reply.started": "2025-07-11T20:17:58.854960Z"
    }
   },
   "outputs": [
    {
     "data": {
      "text/plain": [
       "np.int64(15508)"
      ]
     },
     "execution_count": 129,
     "metadata": {},
     "output_type": "execute_result"
    }
   ],
   "source": [
    "np.sum(galaxies_r)"
   ]
  },
  {
   "cell_type": "code",
   "execution_count": 130,
   "id": "e929d7bc-f010-49e2-9f87-16f273da2d4e",
   "metadata": {
    "execution": {
     "iopub.execute_input": "2025-07-11T20:18:01.279740Z",
     "iopub.status.busy": "2025-07-11T20:18:01.279375Z",
     "iopub.status.idle": "2025-07-11T20:18:01.284718Z",
     "shell.execute_reply": "2025-07-11T20:18:01.284169Z",
     "shell.execute_reply.started": "2025-07-11T20:18:01.279714Z"
    }
   },
   "outputs": [
    {
     "data": {
      "text/plain": [
       "np.int64(19346)"
      ]
     },
     "execution_count": 130,
     "metadata": {},
     "output_type": "execute_result"
    }
   ],
   "source": [
    "np.sum(galaxies_i)"
   ]
  },
  {
   "cell_type": "code",
   "execution_count": 166,
   "id": "edf4f314-2f0a-4b1a-8bd1-d3afc138e39c",
   "metadata": {
    "execution": {
     "iopub.execute_input": "2025-07-11T20:54:41.335616Z",
     "iopub.status.busy": "2025-07-11T20:54:41.335232Z",
     "iopub.status.idle": "2025-07-11T20:54:41.339411Z",
     "shell.execute_reply": "2025-07-11T20:54:41.338783Z",
     "shell.execute_reply.started": "2025-07-11T20:54:41.335590Z"
    }
   },
   "outputs": [],
   "source": [
    "a = [2,3,5]\n",
    "b = [2,4,6]"
   ]
  },
  {
   "cell_type": "code",
   "execution_count": 170,
   "id": "f6185f60-ca2a-48fb-819c-643778935c98",
   "metadata": {
    "execution": {
     "iopub.execute_input": "2025-07-11T20:55:15.170887Z",
     "iopub.status.busy": "2025-07-11T20:55:15.170269Z",
     "iopub.status.idle": "2025-07-11T20:55:15.175587Z",
     "shell.execute_reply": "2025-07-11T20:55:15.174956Z",
     "shell.execute_reply.started": "2025-07-11T20:55:15.170859Z"
    }
   },
   "outputs": [
    {
     "data": {
      "text/plain": [
       "array([2, 3, 4, 5, 6])"
      ]
     },
     "execution_count": 170,
     "metadata": {},
     "output_type": "execute_result"
    }
   ],
   "source": [
    "np.unique(a + b)"
   ]
  },
  {
   "cell_type": "code",
   "execution_count": 175,
   "id": "9a322de4-5f7d-42ab-baeb-1638c79c1a4f",
   "metadata": {
    "execution": {
     "iopub.execute_input": "2025-07-11T20:56:30.814155Z",
     "iopub.status.busy": "2025-07-11T20:56:30.813686Z",
     "iopub.status.idle": "2025-07-11T20:56:30.818607Z",
     "shell.execute_reply": "2025-07-11T20:56:30.818085Z",
     "shell.execute_reply.started": "2025-07-11T20:56:30.814124Z"
    }
   },
   "outputs": [
    {
     "data": {
      "text/plain": [
       "array([    1,     4,     5, ..., 49881, 49981, 49987], shape=(19346,))"
      ]
     },
     "execution_count": 175,
     "metadata": {},
     "output_type": "execute_result"
    }
   ],
   "source": [
    "index_galaxies_i"
   ]
  },
  {
   "cell_type": "code",
   "execution_count": 177,
   "id": "76769c34-c940-48bc-866a-f7eafd882597",
   "metadata": {
    "execution": {
     "iopub.execute_input": "2025-07-11T20:56:49.940743Z",
     "iopub.status.busy": "2025-07-11T20:56:49.939984Z",
     "iopub.status.idle": "2025-07-11T20:56:49.945113Z",
     "shell.execute_reply": "2025-07-11T20:56:49.944554Z",
     "shell.execute_reply.started": "2025-07-11T20:56:49.940716Z"
    }
   },
   "outputs": [],
   "source": [
    "index_galaxies_all = np.unique(np.concatenate((index_galaxies_i, index_galaxies_g, index_galaxies_r)))"
   ]
  },
  {
   "cell_type": "code",
   "execution_count": 179,
   "id": "19df8695-d70b-4212-9718-b130852b3c45",
   "metadata": {
    "execution": {
     "iopub.execute_input": "2025-07-11T20:57:02.481748Z",
     "iopub.status.busy": "2025-07-11T20:57:02.481126Z",
     "iopub.status.idle": "2025-07-11T20:57:02.485801Z",
     "shell.execute_reply": "2025-07-11T20:57:02.485283Z",
     "shell.execute_reply.started": "2025-07-11T20:57:02.481719Z"
    }
   },
   "outputs": [
    {
     "data": {
      "text/plain": [
       "array([    1,     3,     4, ..., 50268, 50269, 50271], shape=(30924,))"
      ]
     },
     "execution_count": 179,
     "metadata": {},
     "output_type": "execute_result"
    }
   ],
   "source": [
    "index_galaxies_all "
   ]
  },
  {
   "cell_type": "code",
   "execution_count": 131,
   "id": "b01c3558-e67b-498f-b684-7c2c22b9bdc1",
   "metadata": {
    "execution": {
     "iopub.execute_input": "2025-07-11T20:18:25.110987Z",
     "iopub.status.busy": "2025-07-11T20:18:25.110086Z",
     "iopub.status.idle": "2025-07-11T20:18:25.115195Z",
     "shell.execute_reply": "2025-07-11T20:18:25.114652Z",
     "shell.execute_reply.started": "2025-07-11T20:18:25.110913Z"
    }
   },
   "outputs": [
    {
     "data": {
      "text/plain": [
       "0.2982996917569852"
      ]
     },
     "execution_count": 131,
     "metadata": {},
     "output_type": "execute_result"
    }
   ],
   "source": [
    "15000./50285."
   ]
  },
  {
   "cell_type": "code",
   "execution_count": 105,
   "id": "f6e811a4-df73-46a0-81b5-1f3af4ae4d6c",
   "metadata": {
    "execution": {
     "iopub.execute_input": "2025-07-11T20:04:33.925742Z",
     "iopub.status.busy": "2025-07-11T20:04:33.924854Z",
     "iopub.status.idle": "2025-07-11T20:04:33.930362Z",
     "shell.execute_reply": "2025-07-11T20:04:33.929769Z",
     "shell.execute_reply.started": "2025-07-11T20:04:33.925708Z"
    }
   },
   "outputs": [
    {
     "data": {
      "text/plain": [
       "0.01704285572238242"
      ]
     },
     "execution_count": 105,
     "metadata": {},
     "output_type": "execute_result"
    }
   ],
   "source": [
    "857./50285."
   ]
  },
  {
   "cell_type": "code",
   "execution_count": 96,
   "id": "1468e3f5-bf23-4b0d-89ad-9af1f99f9541",
   "metadata": {
    "execution": {
     "iopub.execute_input": "2025-07-11T20:01:29.678739Z",
     "iopub.status.busy": "2025-07-11T20:01:29.677980Z",
     "iopub.status.idle": "2025-07-11T20:01:29.683429Z",
     "shell.execute_reply": "2025-07-11T20:01:29.682812Z",
     "shell.execute_reply.started": "2025-07-11T20:01:29.678704Z"
    }
   },
   "outputs": [
    {
     "data": {
      "text/plain": [
       "50285"
      ]
     },
     "execution_count": 96,
     "metadata": {},
     "output_type": "execute_result"
    }
   ],
   "source": [
    "len(dp1_object_edfs['g_extendedness'])"
   ]
  },
  {
   "cell_type": "code",
   "execution_count": 97,
   "id": "6584b3fd-a24e-43b3-b33c-59d84c83dec9",
   "metadata": {
    "execution": {
     "iopub.execute_input": "2025-07-11T20:01:36.151804Z",
     "iopub.status.busy": "2025-07-11T20:01:36.150912Z",
     "iopub.status.idle": "2025-07-11T20:01:36.156318Z",
     "shell.execute_reply": "2025-07-11T20:01:36.155606Z",
     "shell.execute_reply.started": "2025-07-11T20:01:36.151770Z"
    }
   },
   "outputs": [
    {
     "data": {
      "text/plain": [
       "9176"
      ]
     },
     "execution_count": 97,
     "metadata": {},
     "output_type": "execute_result"
    }
   ],
   "source": [
    "50285-41109"
   ]
  },
  {
   "cell_type": "code",
   "execution_count": 98,
   "id": "a5340532-79e5-499f-a82a-34de58377acc",
   "metadata": {
    "execution": {
     "iopub.execute_input": "2025-07-11T20:01:40.934568Z",
     "iopub.status.busy": "2025-07-11T20:01:40.933643Z",
     "iopub.status.idle": "2025-07-11T20:01:40.939902Z",
     "shell.execute_reply": "2025-07-11T20:01:40.939358Z",
     "shell.execute_reply.started": "2025-07-11T20:01:40.934517Z"
    }
   },
   "outputs": [
    {
     "data": {
      "text/plain": [
       "np.int64(857)"
      ]
     },
     "execution_count": 98,
     "metadata": {},
     "output_type": "execute_result"
    }
   ],
   "source": [
    "np.sum(mask_stars.data)"
   ]
  },
  {
   "cell_type": "code",
   "execution_count": 102,
   "id": "9b8fb7e7-591e-4df1-92d1-b24e76797f52",
   "metadata": {
    "execution": {
     "iopub.execute_input": "2025-07-11T20:02:08.162310Z",
     "iopub.status.busy": "2025-07-11T20:02:08.161675Z",
     "iopub.status.idle": "2025-07-11T20:02:08.166793Z",
     "shell.execute_reply": "2025-07-11T20:02:08.166263Z",
     "shell.execute_reply.started": "2025-07-11T20:02:08.162276Z"
    }
   },
   "outputs": [
    {
     "data": {
      "text/plain": [
       "array([False, False, False, ..., False, False, False], shape=(50285,))"
      ]
     },
     "execution_count": 102,
     "metadata": {},
     "output_type": "execute_result"
    }
   ],
   "source": [
    "mask_stars.data"
   ]
  },
  {
   "cell_type": "code",
   "execution_count": 104,
   "id": "38948453-fd24-4d80-affb-688254040b1a",
   "metadata": {
    "execution": {
     "iopub.execute_input": "2025-07-11T20:03:15.655843Z",
     "iopub.status.busy": "2025-07-11T20:03:15.654998Z",
     "iopub.status.idle": "2025-07-11T20:03:15.660500Z",
     "shell.execute_reply": "2025-07-11T20:03:15.659953Z",
     "shell.execute_reply.started": "2025-07-11T20:03:15.655810Z"
    }
   },
   "outputs": [
    {
     "data": {
      "text/plain": [
       "np.int64(857)"
      ]
     },
     "execution_count": 104,
     "metadata": {},
     "output_type": "execute_result"
    }
   ],
   "source": [
    "np.sum(mask_stars)"
   ]
  },
  {
   "cell_type": "code",
   "execution_count": 135,
   "id": "9d829628-5a58-45d9-af66-b41efcb928dd",
   "metadata": {
    "execution": {
     "iopub.execute_input": "2025-07-11T20:19:52.109059Z",
     "iopub.status.busy": "2025-07-11T20:19:52.108331Z",
     "iopub.status.idle": "2025-07-11T20:19:52.114376Z",
     "shell.execute_reply": "2025-07-11T20:19:52.113765Z",
     "shell.execute_reply.started": "2025-07-11T20:19:52.109021Z"
    }
   },
   "outputs": [
    {
     "data": {
      "text/plain": [
       "np.int64(8319)"
      ]
     },
     "execution_count": 135,
     "metadata": {},
     "output_type": "execute_result"
    }
   ],
   "source": [
    "np.sum(galaxies_g | galaxies_r | galaxies_i)"
   ]
  },
  {
   "cell_type": "code",
   "execution_count": 184,
   "id": "c67990d6-dadb-43d7-bf63-57a0b43c136f",
   "metadata": {
    "execution": {
     "iopub.execute_input": "2025-07-11T20:59:21.437608Z",
     "iopub.status.busy": "2025-07-11T20:59:21.436814Z",
     "iopub.status.idle": "2025-07-11T20:59:21.835186Z",
     "shell.execute_reply": "2025-07-11T20:59:21.834572Z",
     "shell.execute_reply.started": "2025-07-11T20:59:21.437579Z"
    }
   },
   "outputs": [
    {
     "data": {
      "text/plain": [
       "(-10.0, 10.0)"
      ]
     },
     "execution_count": 184,
     "metadata": {},
     "output_type": "execute_result"
    },
    {
     "data": {
      "image/png": "[encoded data removed]",
      "text/plain": [
       "<Figure size 640x480 with 1 Axes>"
      ]
     },
     "metadata": {},
     "output_type": "display_data"
    }
   ],
   "source": [
    "plt.plot( dp1_object_edfs_gMag-dp1_object_edfs_rMag , dp1_object_edfs_rMag-dp1_object_edfs_iMag, 'o', label='All objects')\n",
    "plt.plot( dp1_object_edfs_gMag[index_galaxies_all]-dp1_object_edfs_rMag[index_galaxies_all] , dp1_object_edfs_rMag[index_galaxies_all]-dp1_object_edfs_iMag[index_galaxies_all], \n",
    "        '.', color='red',label='Galaxies')\n",
    "plt.xlabel('g - r')\n",
    "plt.ylabel('r - i')\n",
    "plt.legend()\n",
    "plt.title('EDFS Tract 2234')\n",
    "plt.xlim(-10, 10)\n",
    "plt.ylim(-10, 10)"
   ]
  },
  {
   "cell_type": "code",
   "execution_count": 72,
   "id": "4629649c-2331-4582-8d13-e4ea1300057f",
   "metadata": {
    "execution": {
     "iopub.execute_input": "2025-07-11T18:47:51.412751Z",
     "iopub.status.busy": "2025-07-11T18:47:51.412035Z",
     "iopub.status.idle": "2025-07-11T18:47:51.729487Z",
     "shell.execute_reply": "2025-07-11T18:47:51.728874Z",
     "shell.execute_reply.started": "2025-07-11T18:47:51.412718Z"
    }
   },
   "outputs": [
    {
     "data": {
      "text/plain": [
       "<matplotlib.colorbar.Colorbar at 0x78478782ad80>"
      ]
     },
     "execution_count": 72,
     "metadata": {},
     "output_type": "execute_result"
    },
    {
     "data": {
      "image/png": "[encoded data removed]",
      "text/plain": [
       "<Figure size 640x480 with 2 Axes>"
      ]
     },
     "metadata": {},
     "output_type": "display_data"
    }
   ],
   "source": [
    "plt.hist2d( dp1_object_edfs_gMag-dp1_object_edfs_rMag , dp1_object_edfs_rMag-dp1_object_edfs_iMag, range = [(-5,5), (-5, 5)],\n",
    "          norm = 'log')\n",
    "plt.xlabel('g - r')\n",
    "plt.ylabel('r - i')\n",
    "plt.colorbar()\n",
    "# plt.xlim(-10, 10)\n",
    "# plt.ylim(-10, 10)"
   ]
  },
  {
   "cell_type": "code",
   "execution_count": 73,
   "id": "cdbba5ae-240d-4399-ba18-64240472e2cd",
   "metadata": {
    "execution": {
     "iopub.execute_input": "2025-07-11T18:49:15.682694Z",
     "iopub.status.busy": "2025-07-11T18:49:15.682270Z",
     "iopub.status.idle": "2025-07-11T18:49:15.687649Z",
     "shell.execute_reply": "2025-07-11T18:49:15.687079Z",
     "shell.execute_reply.started": "2025-07-11T18:49:15.682665Z"
    }
   },
   "outputs": [],
   "source": [
    "dp1_object_edfs_gr = dp1_object_edfs_gMag-dp1_object_edfs_rMag\n",
    "dp1_object_edfs_ri = dp1_object_edfs_rMag-dp1_object_edfs_iMag\n"
   ]
  },
  {
   "cell_type": "code",
   "execution_count": null,
   "id": "bb54ae2c-c5b6-4253-baf0-61db7c3ea573",
   "metadata": {},
   "outputs": [],
   "source": [
    "\n",
    "dp1_object_edfs_ra_blue = dp1_object_edfs[]\n",
    "\n",
    "'coord_ra', 'coord_dec'\n"
   ]
  },
  {
   "cell_type": "code",
   "execution_count": 58,
   "id": "78080160-714c-4617-9710-61b50e366b81",
   "metadata": {
    "execution": {
     "iopub.execute_input": "2025-07-11T18:41:50.422928Z",
     "iopub.status.busy": "2025-07-11T18:41:50.421988Z",
     "iopub.status.idle": "2025-07-11T18:41:50.563262Z",
     "shell.execute_reply": "2025-07-11T18:41:50.562675Z",
     "shell.execute_reply.started": "2025-07-11T18:41:50.422891Z"
    }
   },
   "outputs": [
    {
     "data": {
      "text/plain": [
       "(array([1.6840e+03, 3.9892e+04, 1.3250e+03, 2.0000e+00, 0.0000e+00,\n",
       "        0.0000e+00, 0.0000e+00, 0.0000e+00, 0.0000e+00, 1.3000e+01]),\n",
       " array([15.58422117, 22.16857669, 28.75293221, 35.33728773, 41.92164325,\n",
       "        48.50599878, 55.0903543 , 61.67470982, 68.25906534, 74.84342086,\n",
       "        81.42777639]),\n",
       " <BarContainer object of 10 artists>)"
      ]
     },
     "execution_count": 58,
     "metadata": {},
     "output_type": "execute_result"
    },
    {
     "data": {
      "image/png": "[encoded data removed]",
      "text/plain": [
       "<Figure size 640x480 with 1 Axes>"
      ]
     },
     "metadata": {},
     "output_type": "display_data"
    }
   ],
   "source": [
    "plt.hist(dp1_object_edfs_gMag)"
   ]
  },
  {
   "cell_type": "markdown",
   "id": "288baf16-d647-4980-bba6-7658335c7e3f",
   "metadata": {
    "execution": {
     "iopub.execute_input": "2025-07-11T21:03:22.515184Z",
     "iopub.status.busy": "2025-07-11T21:03:22.514580Z",
     "iopub.status.idle": "2025-07-11T21:03:22.518245Z",
     "shell.execute_reply": "2025-07-11T21:03:22.517665Z",
     "shell.execute_reply.started": "2025-07-11T21:03:22.515154Z"
    }
   },
   "source": [
    "# Shapes"
   ]
  },
  {
   "cell_type": "code",
   "execution_count": 187,
   "id": "11e6d4f3-504b-4d92-8f3b-3c1f3d9ded10",
   "metadata": {
    "execution": {
     "iopub.execute_input": "2025-07-11T21:08:01.260413Z",
     "iopub.status.busy": "2025-07-11T21:08:01.260013Z",
     "iopub.status.idle": "2025-07-11T21:08:02.347882Z",
     "shell.execute_reply": "2025-07-11T21:08:02.347233Z",
     "shell.execute_reply.started": "2025-07-11T21:08:01.260387Z"
    }
   },
   "outputs": [],
   "source": [
    "column_names = ['g_hsmShapeRegauss_e1', 'g_hsmShapeRegauss_e2' ]\n",
    "\n",
    "\n",
    "dp1_object_edfs = butler.get(dp1_object_edfs_refs[0], parameters={'columns': column_names})"
   ]
  },
  {
   "cell_type": "code",
   "execution_count": 189,
   "id": "f3f5b287-7af5-4321-a93d-2536354b89b5",
   "metadata": {
    "execution": {
     "iopub.execute_input": "2025-07-11T21:08:51.316911Z",
     "iopub.status.busy": "2025-07-11T21:08:51.316131Z",
     "iopub.status.idle": "2025-07-11T21:08:51.323973Z",
     "shell.execute_reply": "2025-07-11T21:08:51.323430Z",
     "shell.execute_reply.started": "2025-07-11T21:08:51.316882Z"
    }
   },
   "outputs": [
    {
     "data": {
      "text/html": [
       "&lt;MaskedColumn name=&apos;g_hsmShapeRegauss_e2&apos; dtype=&apos;float32&apos; length=30924&gt;\n",
       "<table>\n",
       "<tr><td>--</td></tr>\n",
       "<tr><td>--</td></tr>\n",
       "<tr><td>--</td></tr>\n",
       "<tr><td>--</td></tr>\n",
       "<tr><td>--</td></tr>\n",
       "<tr><td>--</td></tr>\n",
       "<tr><td>--</td></tr>\n",
       "<tr><td>--</td></tr>\n",
       "<tr><td>--</td></tr>\n",
       "<tr><td>--</td></tr>\n",
       "<tr><td>--</td></tr>\n",
       "<tr><td>--</td></tr>\n",
       "<tr><td>...</td></tr>\n",
       "<tr><td>--</td></tr>\n",
       "<tr><td>--</td></tr>\n",
       "<tr><td>--</td></tr>\n",
       "<tr><td>--</td></tr>\n",
       "<tr><td>--</td></tr>\n",
       "<tr><td>--</td></tr>\n",
       "<tr><td>--</td></tr>\n",
       "<tr><td>--</td></tr>\n",
       "<tr><td>--</td></tr>\n",
       "<tr><td>--</td></tr>\n",
       "<tr><td>--</td></tr>\n",
       "</table>"
      ],
      "text/plain": [
       "<MaskedColumn name='g_hsmShapeRegauss_e2' dtype='float32' length=30924>\n",
       " --\n",
       " --\n",
       " --\n",
       " --\n",
       " --\n",
       " --\n",
       " --\n",
       " --\n",
       " --\n",
       " --\n",
       " --\n",
       " --\n",
       "...\n",
       " --\n",
       " --\n",
       " --\n",
       " --\n",
       " --\n",
       " --\n",
       " --\n",
       " --\n",
       " --\n",
       " --\n",
       " --"
      ]
     },
     "execution_count": 189,
     "metadata": {},
     "output_type": "execute_result"
    }
   ],
   "source": [
    "# Gets e1 and e2 for our galaxies\n",
    "dp1_object_edfs[index_galaxies_all]['g_hsmShapeRegauss_e1']\n",
    "dp1_object_edfs[index_galaxies_all]['g_hsmShapeRegauss_e2']"
   ]
  },
  {
   "cell_type": "code",
   "execution_count": null,
   "id": "45aa6986-982c-4ed3-9dc2-2685ca0ae459",
   "metadata": {},
   "outputs": [],
   "source": []
  }
 ],
 "metadata": {
  "kernelspec": {
   "display_name": "LSST",
   "language": "python",
   "name": "lsst"
  },
  "language_info": {
   "codemirror_mode": {
    "name": "ipython",
    "version": 3
   },
   "file_extension": ".py",
   "mimetype": "text/x-python",
   "name": "python",
   "nbconvert_exporter": "python",
   "pygments_lexer": "ipython3",
   "version": "3.12.11"
  }
 },
 "nbformat": 4,
 "nbformat_minor": 5
}
