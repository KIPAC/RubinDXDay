{
 "cells": [
  {
   "cell_type": "markdown",
   "id": "f11fc55e-df06-47dd-8599-eb78bc578862",
   "metadata": {},
   "source": [
    "# Euclid Q1 Lenses\n",
    "\n",
    "* **Phil Marshall, Phil Holloway, Ralf Kaehler, Ferro Shao**\n",
    "* DP1\n",
    "* data.lsst.cloud\n",
    "* r29.1.1\n",
    "* Fri July 11 2025"
   ]
  },
  {
   "cell_type": "markdown",
   "id": "65367d2a-7335-4752-9565-3861387a2a63",
   "metadata": {},
   "source": [
    "## Goals\n",
    "\n",
    "* Extract _ugrizy_ coadd image cutouts for each Euclid Q1 strong lens candidate in the ECDFS and EDFS DP1 fields\n",
    "* Visualize them as _gri_ color composites.\n",
    "* Stretch: deconvolve them using the Rubin SharPy by Kaehler et al (in prep)"
   ]
  },
  {
   "cell_type": "code",
   "execution_count": null,
   "id": "729bff4a-1e33-458b-83c5-9921ca77fed8",
   "metadata": {},
   "outputs": [],
   "source": [
    "from lsst.daf.butler import Butler\n",
    "import lsst.afw.display as afw_display\n",
    "import lsst.geom as geom\n",
    "from lsst.afw.image import MultibandExposure\n",
    "import numpy as np\n",
    "from astropy.visualization import make_lupton_rgb\n",
    "import matplotlib.pyplot as plt\n",
    "\n",
    "afw_display.setDefaultBackend('matplotlib')"
   ]
  },
  {
   "cell_type": "markdown",
   "id": "f26c3831-a5d6-4358-ba5a-4b54d06a4ed7",
   "metadata": {},
   "source": [
    "## Cutout Image Extraction\n",
    "\n",
    "First we need to make a list (or better, a table) of targets. Then, for each one, we find out which DP1 coadd patch it lies in. (We'll need to choose which patch, for systems that lie in the patch overlap regions and hence in multiple patches.) Then, we loop over patches and bands, uploading a patch image and extracting all the cutouts we can - which will mean getting the image coordinates for each system"
   ]
  },
  {
   "cell_type": "code",
   "execution_count": null,
   "id": "ba8ee8ee-7cb4-4a9d-a3e8-186c0c593095",
   "metadata": {},
   "outputs": [],
   "source": [
    "butler = Butler(\"dp1\", collections=\"LSSTComCam/DP1\")\n",
    "assert butler is not None"
   ]
  },
  {
   "cell_type": "code",
   "execution_count": null,
   "id": "39bed3db-4271-4aeb-82c4-a23bab785d8e",
   "metadata": {},
   "outputs": [],
   "source": [
    "butler.get_dataset_type('deep_coadd').dimensions.required"
   ]
  },
  {
   "cell_type": "markdown",
   "id": "6fb6113c-2763-4424-8856-06d79b1c5de3",
   "metadata": {},
   "source": [
    "### Single Sky Position, Single Band\n",
    "\n",
    "Let's just try extracting a single 32x32 pixel cutout image in one band."
   ]
  },
  {
   "cell_type": "code",
   "execution_count": null,
   "id": "b20bc42a-e4af-4768-ba96-6f10879314d0",
   "metadata": {},
   "outputs": [],
   "source": [
    "ra = 59.626134\n",
    "dec = -49.06175\n",
    "\n",
    "band = 'i'"
   ]
  },
  {
   "cell_type": "markdown",
   "id": "248142d6-1e6c-473d-99a7-819b89d77034",
   "metadata": {},
   "source": [
    "Turn the coordinates into an IAU standard object name, we'll need this later:"
   ]
  },
  {
   "cell_type": "code",
   "execution_count": null,
   "id": "7dc87bd9-271c-4205-a2af-c71381cee28e",
   "metadata": {},
   "outputs": [],
   "source": [
    "import astropy.units as u\n",
    "from astropy.coordinates import SkyCoord\n",
    "\n",
    "# Example RA and Dec coordinates\n",
    "rahms = ra * u.hourangle  # 12 hours, 30 minutes, 36 seconds\n",
    "decdms = dec * u.deg    # +12 degrees, 24 minutes, 0 seconds\n",
    "\n",
    "# Create a SkyCoord object\n",
    "coordinates = SkyCoord(ra=rahms, dec=decdms, frame='icrs')\n",
    "\n",
    "# Format the coordinates into an IAU-style string\n",
    "name = (f'EUCLID J{coordinates.ra.to_string(unit=u.hourangle, sep=\"\", precision=1, pad=True)}'\n",
    "                  f'{coordinates.dec.to_string(sep=\"\", precision=0, alwayssign=True, pad=True)}') #\n",
    "\n",
    "print(name)"
   ]
  },
  {
   "cell_type": "markdown",
   "id": "7dd657db-3028-4897-ae44-a4e44c4aff63",
   "metadata": {},
   "source": [
    "We need to find the tract and patch that this target is in. This approach was adopted from the CST Tutorial [\"03a Image Display and Manipulation\"](https://github.com/lsst/tutorial-notebooks/blob/main/DP0.2/03a_Image_Display_and_Manipulation.ipynb)."
   ]
  },
  {
   "cell_type": "code",
   "execution_count": null,
   "id": "34975668-16b9-447e-b37a-56a9e78cc45e",
   "metadata": {},
   "outputs": [],
   "source": [
    "radec = geom.SpherePoint(ra, dec, geom.degrees)\n",
    "cutoutSize = geom.ExtentI(32, 32)\n",
    "\n",
    "skymap = butler.get(\"skyMap\")\n",
    "tractInfo = skymap.findTract(radec)\n",
    "patchInfo = tractInfo.findPatch(radec)\n",
    "\n",
    "patch = tractInfo.getSequentialPatchIndex(patchInfo)\n",
    "tract = tractInfo.getId()\n",
    "\n",
    "dataId = {'tract': tract, 'patch': patch, 'band': band}"
   ]
  },
  {
   "cell_type": "markdown",
   "id": "1bd4189a-0cc7-4fa3-b219-ccfb57a614f2",
   "metadata": {},
   "source": [
    "When testing, it can be useful to upload the whole patch image and inspect it."
   ]
  },
  {
   "cell_type": "code",
   "execution_count": null,
   "id": "774cb05c-c831-4c79-b891-aa00db25f7be",
   "metadata": {},
   "outputs": [],
   "source": [
    "# deep_coadd = butler.get('deep_coadd', band=band, tract=tract, patch=patch)\n",
    "# coadd"
   ]
  },
  {
   "cell_type": "code",
   "execution_count": null,
   "id": "c8f5d83d-beb8-4a01-a6c5-9a9d16a867d5",
   "metadata": {},
   "outputs": [],
   "source": [
    "# fig = plt.figure(figsize=(6,6))\n",
    "# display = afw_display.Display(frame=fig)\n",
    "# display.scale('asinh', 'zscale')\n",
    "# display.mtv(coadd.image)\n",
    "# plt.show()"
   ]
  },
  {
   "cell_type": "markdown",
   "id": "1d516446-ae23-46e1-bc00-0c8cdb3c6ce5",
   "metadata": {},
   "source": [
    "Now to define a small bounding box, and extract the pixels in it. This first cell below _should_ work, but doesn't - maybe some tract/patch confusion. There could be some speed up here at some point, making multiple cutouts from the same patch image using the calexp object's native factory method."
   ]
  },
  {
   "cell_type": "code",
   "execution_count": null,
   "id": "e32d9519-f4ec-4499-b6bb-f15eb3bad538",
   "metadata": {},
   "outputs": [],
   "source": [
    "# xy = geom.PointI(tractInfo.getWcs().skyToPixel(radec))\n",
    "# bbox = geom.BoxI(xy - cutoutSize // 2, cutoutSize)\n",
    "\n",
    "# cutout = coadd.Factory(coadd, bbox)"
   ]
  },
  {
   "cell_type": "markdown",
   "id": "bb06ca5f-af1b-4c61-8196-0690e743028f",
   "metadata": {},
   "source": [
    "Here's some code that does work: define the bounding box, then just grab that part of the image."
   ]
  },
  {
   "cell_type": "code",
   "execution_count": null,
   "id": "8c09ccc4-d4a0-4091-953e-b0bec9f3e962",
   "metadata": {},
   "outputs": [],
   "source": [
    "xy = geom.PointI(tractInfo.getWcs().skyToPixel(radec))\n",
    "bbox = geom.BoxI(xy - cutoutSize // 2, cutoutSize)\n",
    "\n",
    "parameters = {'bbox': bbox}\n",
    "\n",
    "cutout = butler.get(\"deep_coadd\", parameters=parameters, dataId=dataId)"
   ]
  },
  {
   "cell_type": "markdown",
   "id": "9b6105f8-20ad-4e6a-9000-ad468abc7978",
   "metadata": {},
   "source": [
    "Quick look to check we got our object!"
   ]
  },
  {
   "cell_type": "code",
   "execution_count": null,
   "id": "1dff2724-6f93-4e35-83da-f88a98d55c9e",
   "metadata": {},
   "outputs": [],
   "source": [
    "fig = plt.figure(figsize=(3, 3))\n",
    "display = afw_display.Display(frame=fig)\n",
    "display.scale('asinh', 'zscale')\n",
    "display.mtv(cutout_image.image)\n",
    "plt.show()"
   ]
  },
  {
   "cell_type": "markdown",
   "id": "a2f16999-1a5a-45fd-a9ef-cf1714aff8fb",
   "metadata": {},
   "source": [
    "### Single Object, Multiple Bands\n",
    "\n",
    "Loop over all 6 bands and extract the cutout image in each one."
   ]
  },
  {
   "cell_type": "code",
   "execution_count": null,
   "id": "c8c2c390-2374-41ba-a19b-c3e99c8dcd53",
   "metadata": {},
   "outputs": [],
   "source": [
    "bands = [\"u\",\"g\",\"r\",\"i\",\"z\",\"y\"]\n",
    "cutout = {}\n",
    "\n",
    "for band in bands:\n",
    "    dataId = {'tract': tract, 'patch': patch, 'band': band}\n",
    "    cutout[band] = butler.get(\"deep_coadd\", parameters=parameters, dataId=dataId)"
   ]
  },
  {
   "cell_type": "code",
   "execution_count": null,
   "id": "41514463-c5c6-405f-a25c-bec43041139f",
   "metadata": {},
   "outputs": [],
   "source": [
    "cutout"
   ]
  },
  {
   "cell_type": "code",
   "execution_count": null,
   "id": "533d3a49-967c-4a61-af6b-9d96a49c0bb9",
   "metadata": {},
   "outputs": [],
   "source": [
    "fig = plt.figure(figsize=(3, 3))\n",
    "display = afw_display.Display(frame=fig)\n",
    "display.scale('asinh', 'zscale')\n",
    "display.mtv(cutout[\"g\"].image)\n",
    "plt.show()"
   ]
  },
  {
   "cell_type": "markdown",
   "id": "c9b12a89-ef2c-4a62-af7f-6b8630eb899b",
   "metadata": {},
   "source": [
    "OK - we have 6 cutouts for this target, so can go ahead and make a color composite - see below for this. It took about 5 secs to make them all: we'll need to keep an eye on this, and return to the `factory` approach to try and speed things up a bit."
   ]
  },
  {
   "cell_type": "markdown",
   "id": "7d216083-ef68-4d13-861d-0466311b55e5",
   "metadata": {},
   "source": [
    "## _gri_ Composite Image Visualization\n",
    "\n",
    "Here's a useful function, adapted from the CST Tutorial [\"03a Image Display and Manipulation\"](https://github.com/lsst/tutorial-notebooks/blob/main/DP0.2/03a_Image_Display_and_Manipulation.ipynb)."
   ]
  },
  {
   "cell_type": "code",
   "execution_count": null,
   "id": "6bcfa278-84c5-4eda-852d-a31e9e1f2609",
   "metadata": {},
   "outputs": [],
   "source": [
    "def showRGB(image, bgr=\"gri\", ax=None, fp=None, figsize=(8,8), stretch=100, Q=1, name=None):\n",
    "    \"\"\"Display an RGB color composite image with matplotlib.\n",
    "    \n",
    "    Parameters\n",
    "    ----------\n",
    "    image : `MultibandImage`\n",
    "        `MultibandImage` to display.\n",
    "    bgr : sequence\n",
    "        A 3-element sequence of filter names (i.e. keys of the exps dict) indicating what band\n",
    "        to use for each channel. If `image` only has three filters then this parameter is ignored\n",
    "        and the filters in the image are used.\n",
    "    ax : `matplotlib.axes.Axes`\n",
    "        Axis in a `matplotlib.Figure` to display the image.\n",
    "        If `axis` is `None` then a new figure is created.\n",
    "    figsize: tuple\n",
    "        Size of the `matplotlib.Figure` created.\n",
    "        If `ax` is not `None` then this parameter is ignored.\n",
    "    stretch: int\n",
    "        The linear stretch of the image.\n",
    "    Q: int\n",
    "        The Asinh softening parameter.\n",
    "    \"\"\"\n",
    "    # If the image only has 3 bands, reverse the order of the bands to produce the RGB image\n",
    "    if len(image) == 3:\n",
    "        bgr = image.filters\n",
    "    # Extract the primary image component of each Exposure with the .image property, and use .array to get a NumPy array view.\n",
    "    rgb = make_lupton_rgb(image_r=image[bgr[2]].array,  # numpy array for the r channel\n",
    "                          image_g=image[bgr[1]].array,  # numpy array for the g channel\n",
    "                          image_b=image[bgr[0]].array,  # numpy array for the b channel\n",
    "                          stretch=stretch, Q=Q)  # parameters used to stretch and scale the pixel values\n",
    "    if ax is None:\n",
    "        fig = plt.figure(figsize=figsize)\n",
    "        ax = fig.add_subplot(1,1,1)\n",
    "    \n",
    "    plt.axis(\"off\")\n",
    "    ax.imshow(rgb, interpolation='nearest', origin='lower')\n",
    "\n",
    "    if name is not None:\n",
    "        plt.text(0, 31, name, color='white', fontsize=12, horizontalalignment='left', verticalalignment='top')\n",
    "    \n",
    "    plt.text(0, 2, bgr, color='white', fontsize=12, horizontalalignment='left', verticalalignment='top')"
   ]
  },
  {
   "cell_type": "markdown",
   "id": "a51c625e-f017-423c-9f65-753e1f7a8fb5",
   "metadata": {},
   "source": [
    "First we need to package our cutouts into a MultibandExposure object, then we pass that to the RGB composite generation function."
   ]
  },
  {
   "cell_type": "code",
   "execution_count": null,
   "id": "f592790b-26cf-465c-9511-6c751799f39f",
   "metadata": {},
   "outputs": [],
   "source": [
    "cutouts = [cutout[band] for band in bands]\n",
    "multibandexposure = MultibandExposure.fromExposures(bands, cutouts)"
   ]
  },
  {
   "cell_type": "code",
   "execution_count": null,
   "id": "23848e70-3f5d-40e4-bc6b-0e208af3f044",
   "metadata": {},
   "outputs": [],
   "source": [
    "showRGB(multibandexposure.image, bgr='gri', figsize=(3,3), stretch=60, Q=1, name=name)"
   ]
  },
  {
   "cell_type": "markdown",
   "id": "37c0f387-d8a9-4723-9668-f227703fa105",
   "metadata": {},
   "source": [
    "Choosing the stretch and Q can be a bit fiddly - this is best done when visualizing the whole set of cutouts in a gallery. This is what we will do next."
   ]
  },
  {
   "cell_type": "markdown",
   "id": "3aed2a81-68aa-4fa6-9ce0-eee6c652de76",
   "metadata": {
    "execution": {
     "iopub.execute_input": "2025-07-12T03:41:51.156141Z",
     "iopub.status.busy": "2025-07-12T03:41:51.155432Z",
     "iopub.status.idle": "2025-07-12T03:41:51.158677Z",
     "shell.execute_reply": "2025-07-12T03:41:51.158064Z",
     "shell.execute_reply.started": "2025-07-12T03:41:51.156112Z"
    }
   },
   "source": [
    "## Appendix\n",
    "\n",
    "The code below is from the Cutout Factory demo notebook by Melissa Graham at https://github.com/lsst/cst-dev/blob/main/MLG_sandbox/random/cutout_factory_demo_2025-06-05.ipynb, and is experimented with in this notebook further up."
   ]
  },
  {
   "cell_type": "code",
   "execution_count": null,
   "id": "35c08215-2fc7-40c2-a58d-8c39c655a130",
   "metadata": {},
   "outputs": [],
   "source": [
    "\n",
    "\n",
    "import lsst.afw.display as afw_display\n",
    "from lsst.daf.butler import Butler\n",
    "import lsst.geom as geom\n",
    "import matplotlib.pyplot as plt\n",
    "\n",
    "afw_display.setDefaultBackend('matplotlib')"
   ]
  },
  {
   "cell_type": "code",
   "execution_count": null,
   "id": "8014a204-b2ed-42de-b1db-69df528e9349",
   "metadata": {},
   "outputs": [],
   "source": [
    "butler = Butler('dp02', collections='2.2i/runs/DP0.2')\n",
    "dataId = {'visit': 192350, 'detector': 175, 'band': 'i'}\n",
    "calexp = butler.get('calexp', **dataId)"
   ]
  },
  {
   "cell_type": "code",
   "execution_count": null,
   "id": "47f755c2-36bf-4f2e-a225-7f519d274180",
   "metadata": {},
   "outputs": [],
   "source": [
    "fig = plt.figure(figsize=(3,3))\n",
    "display = afw_display.Display(frame=fig)\n",
    "display.scale('asinh', 'zscale')\n",
    "display.mtv(calexp.image)\n",
    "plt.show()"
   ]
  },
  {
   "cell_type": "code",
   "execution_count": null,
   "id": "66bcfac7-d835-4068-9970-43b59e53473f",
   "metadata": {},
   "outputs": [],
   "source": [
    "cutoutSize = geom.ExtentI(301, 301)\n",
    "\n",
    "xy1 = geom.PointI(2250, 700)\n",
    "bbox1 = geom.BoxI(xy1 - cutoutSize // 2, cutoutSize)\n",
    "\n",
    "xy2 = geom.PointI(400, 1750)\n",
    "bbox2 = geom.BoxI(xy2 - cutoutSize // 2, cutoutSize)"
   ]
  },
  {
   "cell_type": "code",
   "execution_count": null,
   "id": "430b2a34-ca4a-44e6-a537-badd39f36719",
   "metadata": {},
   "outputs": [],
   "source": [
    "cutout1 = calexp.Factory(calexp, bbox1)\n",
    "cutout2 = calexp.Factory(calexp, bbox2)"
   ]
  },
  {
   "cell_type": "code",
   "execution_count": null,
   "id": "84f02bbe-0700-49dc-bb72-cfcbca463448",
   "metadata": {},
   "outputs": [],
   "source": [
    "fig = plt.figure(figsize=(3, 3))\n",
    "display = afw_display.Display(frame=fig)\n",
    "display.scale('asinh', 'zscale')\n",
    "display.mtv(cutout1.image)\n",
    "plt.show()"
   ]
  },
  {
   "cell_type": "code",
   "execution_count": null,
   "id": "86ad2255-44bd-4339-9866-c4ff723f7d01",
   "metadata": {},
   "outputs": [],
   "source": [
    "fig = plt.figure(figsize=(3, 3))\n",
    "display = afw_display.Display(frame=fig)\n",
    "display.scale('asinh', 'zscale')\n",
    "display.mtv(cutout2.image)\n",
    "plt.show()"
   ]
  },
  {
   "cell_type": "code",
   "execution_count": null,
   "id": "71929a34-504c-4942-8e3d-4f9075ea1c86",
   "metadata": {},
   "outputs": [],
   "source": []
  }
 ],
 "metadata": {
  "kernelspec": {
   "display_name": "LSST",
   "language": "python",
   "name": "lsst"
  },
  "language_info": {
   "codemirror_mode": {
    "name": "ipython",
    "version": 3
   },
   "file_extension": ".py",
   "mimetype": "text/x-python",
   "name": "python",
   "nbconvert_exporter": "python",
   "pygments_lexer": "ipython3",
   "version": "3.12.11"
  }
 },
 "nbformat": 4,
 "nbformat_minor": 5
}
