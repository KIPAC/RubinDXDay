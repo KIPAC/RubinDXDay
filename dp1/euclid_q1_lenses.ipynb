{
 "cells": [
  {
   "cell_type": "markdown",
   "id": "f11fc55e-df06-47dd-8599-eb78bc578862",
   "metadata": {},
   "source": [
    "# Euclid Q1 Lenses\n",
    "\n",
    "* **Phil Marshall, Phil Holloway, Ralf Kaehler, Ferro Shao**\n",
    "* DP1\n",
    "* data.lsst.cloud\n",
    "* r29.1.1\n",
    "* Fri July 11 2025"
   ]
  },
  {
   "cell_type": "markdown",
   "id": "65367d2a-7335-4752-9565-3861387a2a63",
   "metadata": {},
   "source": [
    "## Goals\n",
    "\n",
    "* Extract _ugrizy_ coadd image cutouts for each Euclid Q1 strong lens candidate in the ECDFS and EDFS DP1 fields\n",
    "* Visualize them as _gri_ color composites.\n",
    "* Stretch: deconvolve them using the Rubin SharPy by Kaehler et al (in prep)"
   ]
  },
  {
   "cell_type": "code",
   "execution_count": null,
   "id": "729bff4a-1e33-458b-83c5-9921ca77fed8",
   "metadata": {},
   "outputs": [],
   "source": [
    "from lsst.daf.butler import Butler\n",
    "import lsst.afw.display as afw_display\n",
    "import lsst.geom as geom\n",
    "import numpy as np\n",
    "import matplotlib.pyplot as plt\n",
    "\n",
    "afw_display.setDefaultBackend('matplotlib')"
   ]
  },
  {
   "cell_type": "markdown",
   "id": "f26c3831-a5d6-4358-ba5a-4b54d06a4ed7",
   "metadata": {},
   "source": [
    "## Cutout Image Extraction\n",
    "\n",
    "First we need to make a list (or better, a table) of targets. Then, for each one, we find out which DP1 coadd patch it lies in. (We'll need to choose which patch, for systems that lie in the patch overlap regions and hence in multiple patches.) Then, we loop over patches and bands, uploading a patch image and extracting all the cutouts we can - which will mean getting the image coordinates for each system"
   ]
  },
  {
   "cell_type": "code",
   "execution_count": null,
   "id": "ba8ee8ee-7cb4-4a9d-a3e8-186c0c593095",
   "metadata": {},
   "outputs": [],
   "source": [
    "butler = Butler(\"dp1\", collections=\"LSSTComCam/DP1\")\n",
    "assert butler is not None"
   ]
  },
  {
   "cell_type": "code",
   "execution_count": null,
   "id": "39bed3db-4271-4aeb-82c4-a23bab785d8e",
   "metadata": {},
   "outputs": [],
   "source": [
    "butler.get_dataset_type('deep_coadd').dimensions.required"
   ]
  },
  {
   "cell_type": "markdown",
   "id": "6fb6113c-2763-4424-8856-06d79b1c5de3",
   "metadata": {},
   "source": [
    "## Single Sky Position Testing\n",
    "\n",
    "### Single Band\n",
    "\n",
    "Let's just try extracting a single 32x32 pixel cutout image in one band."
   ]
  },
  {
   "cell_type": "code",
   "execution_count": null,
   "id": "165077b3-3ed9-40a0-b762-92689fc24b0f",
   "metadata": {},
   "outputs": [],
   "source": [
    "ra = 59.626134\n",
    "dec = -49.06175\n",
    "\n",
    "band = 'i'"
   ]
  },
  {
   "cell_type": "markdown",
   "id": "7dd657db-3028-4897-ae44-a4e44c4aff63",
   "metadata": {},
   "source": [
    "We need to find the tract and patch that this target is in:"
   ]
  },
  {
   "cell_type": "code",
   "execution_count": null,
   "id": "34975668-16b9-447e-b37a-56a9e78cc45e",
   "metadata": {},
   "outputs": [],
   "source": [
    "radec = geom.SpherePoint(ra, dec, geom.degrees)\n",
    "cutoutSize = geom.ExtentI(32, 32)\n",
    "\n",
    "skymap = butler.get(\"skyMap\")\n",
    "tractInfo = skymap.findTract(radec)\n",
    "patchInfo = tractInfo.findPatch(radec)\n",
    "\n",
    "patch = tractInfo.getSequentialPatchIndex(patchInfo)\n",
    "tract = tractInfo.getId()\n",
    "\n",
    "dataId = {'tract': tract, 'patch': patch, 'band': band}"
   ]
  },
  {
   "cell_type": "markdown",
   "id": "1bd4189a-0cc7-4fa3-b219-ccfb57a614f2",
   "metadata": {},
   "source": [
    "When testing, it can be useful to upload the whole patch image and inspect it."
   ]
  },
  {
   "cell_type": "code",
   "execution_count": null,
   "id": "774cb05c-c831-4c79-b891-aa00db25f7be",
   "metadata": {},
   "outputs": [],
   "source": [
    "# deep_coadd = butler.get('deep_coadd', band=band, tract=tract, patch=patch)\n",
    "# coadd"
   ]
  },
  {
   "cell_type": "code",
   "execution_count": null,
   "id": "c8f5d83d-beb8-4a01-a6c5-9a9d16a867d5",
   "metadata": {},
   "outputs": [],
   "source": [
    "# fig = plt.figure(figsize=(6,6))\n",
    "# display = afw_display.Display(frame=fig)\n",
    "# display.scale('asinh', 'zscale')\n",
    "# display.mtv(coadd.image)\n",
    "# plt.show()"
   ]
  },
  {
   "cell_type": "markdown",
   "id": "1d516446-ae23-46e1-bc00-0c8cdb3c6ce5",
   "metadata": {},
   "source": [
    "Now to define a small bounding box, and extract the pixels in it. This first cell _should_ work, but doesn't - maybe some tract/patch confusion. There could be some speed up here at some point, making multiple cutouts from teh same patch image."
   ]
  },
  {
   "cell_type": "code",
   "execution_count": null,
   "id": "e32d9519-f4ec-4499-b6bb-f15eb3bad538",
   "metadata": {},
   "outputs": [],
   "source": [
    "# xy = geom.PointI(tractInfo.getWcs().skyToPixel(radec))\n",
    "# bbox = geom.BoxI(xy - cutoutSize // 2, cutoutSize)\n",
    "\n",
    "# cutout = coadd.Factory(coadd, bbox)"
   ]
  },
  {
   "cell_type": "markdown",
   "id": "bb06ca5f-af1b-4c61-8196-0690e743028f",
   "metadata": {},
   "source": [
    "Here's some code that does work: define the bounding box, then just grab that part of the image."
   ]
  },
  {
   "cell_type": "code",
   "execution_count": null,
   "id": "8c09ccc4-d4a0-4091-953e-b0bec9f3e962",
   "metadata": {},
   "outputs": [],
   "source": [
    "xy = geom.PointI(tractInfo.getWcs().skyToPixel(radec))\n",
    "bbox = geom.BoxI(xy - cutoutSize // 2, cutoutSize)\n",
    "\n",
    "parameters = {'bbox': bbox}\n",
    "\n",
    "cutout = butler.get(\"deep_coadd\", parameters=parameters, dataId=dataId)"
   ]
  },
  {
   "cell_type": "markdown",
   "id": "9b6105f8-20ad-4e6a-9000-ad468abc7978",
   "metadata": {},
   "source": [
    "Quick look to check we got our object!"
   ]
  },
  {
   "cell_type": "code",
   "execution_count": null,
   "id": "1dff2724-6f93-4e35-83da-f88a98d55c9e",
   "metadata": {},
   "outputs": [],
   "source": [
    "fig = plt.figure(figsize=(3, 3))\n",
    "display = afw_display.Display(frame=fig)\n",
    "display.scale('asinh', 'zscale')\n",
    "display.mtv(cutout_image.image)\n",
    "plt.show()"
   ]
  },
  {
   "cell_type": "markdown",
   "id": "a2f16999-1a5a-45fd-a9ef-cf1714aff8fb",
   "metadata": {},
   "source": [
    "## Multiple Bands\n",
    "\n",
    "Loop over all 6 bands:"
   ]
  },
  {
   "cell_type": "code",
   "execution_count": null,
   "id": "c8c2c390-2374-41ba-a19b-c3e99c8dcd53",
   "metadata": {},
   "outputs": [],
   "source": [
    "bands = [\"u\",\"g\",\"r\",\"i\",\"z\",\"y\"]\n",
    "cutout = {}\n",
    "\n",
    "for band in bands:\n",
    "    dataId = {'tract': tract, 'patch': patch, 'band': band}\n",
    "    cutout[band] = butler.get(\"deep_coadd\", parameters=parameters, dataId=dataId)"
   ]
  },
  {
   "cell_type": "code",
   "execution_count": null,
   "id": "41514463-c5c6-405f-a25c-bec43041139f",
   "metadata": {},
   "outputs": [],
   "source": [
    "cutout"
   ]
  },
  {
   "cell_type": "code",
   "execution_count": null,
   "id": "533d3a49-967c-4a61-af6b-9d96a49c0bb9",
   "metadata": {},
   "outputs": [],
   "source": [
    "fig = plt.figure(figsize=(3, 3))\n",
    "display = afw_display.Display(frame=fig)\n",
    "display.scale('asinh', 'zscale')\n",
    "display.mtv(cutout[\"y\"].image)\n",
    "plt.show()"
   ]
  },
  {
   "cell_type": "markdown",
   "id": "c9b12a89-ef2c-4a62-af7f-6b8630eb899b",
   "metadata": {},
   "source": [
    "OK - we have 6 cutouts for this target, so can go ahead and make a color composite. It took about 5 secs to make them all: we'll need to keep an eye on this, and return to the `factory` approach to try and speed things up a bit."
   ]
  },
  {
   "cell_type": "markdown",
   "id": "7d216083-ef68-4d13-861d-0466311b55e5",
   "metadata": {},
   "source": [
    "## _gri_ Composite Image Visualization"
   ]
  },
  {
   "cell_type": "markdown",
   "id": "4ebd56d6-1b8f-43b4-9063-0d8cb4a7bc15",
   "metadata": {},
   "source": [
    "## Do-It-All Code"
   ]
  },
  {
   "cell_type": "markdown",
   "id": "3aed2a81-68aa-4fa6-9ce0-eee6c652de76",
   "metadata": {
    "execution": {
     "iopub.execute_input": "2025-07-12T03:41:51.156141Z",
     "iopub.status.busy": "2025-07-12T03:41:51.155432Z",
     "iopub.status.idle": "2025-07-12T03:41:51.158677Z",
     "shell.execute_reply": "2025-07-12T03:41:51.158064Z",
     "shell.execute_reply.started": "2025-07-12T03:41:51.156112Z"
    }
   },
   "source": [
    "## Appendix\n",
    "\n",
    "The code below is from the Cutout Factory demo notebook by Melissa Graham, and is being used as a source in this notebook further up."
   ]
  },
  {
   "cell_type": "code",
   "execution_count": null,
   "id": "35c08215-2fc7-40c2-a58d-8c39c655a130",
   "metadata": {},
   "outputs": [],
   "source": [
    "\n",
    "\n",
    "import lsst.afw.display as afw_display\n",
    "from lsst.daf.butler import Butler\n",
    "import lsst.geom as geom\n",
    "import matplotlib.pyplot as plt\n",
    "\n",
    "afw_display.setDefaultBackend('matplotlib')"
   ]
  },
  {
   "cell_type": "code",
   "execution_count": null,
   "id": "8014a204-b2ed-42de-b1db-69df528e9349",
   "metadata": {},
   "outputs": [],
   "source": [
    "butler = Butler('dp02', collections='2.2i/runs/DP0.2')\n",
    "dataId = {'visit': 192350, 'detector': 175, 'band': 'i'}\n",
    "calexp = butler.get('calexp', **dataId)"
   ]
  },
  {
   "cell_type": "code",
   "execution_count": null,
   "id": "47f755c2-36bf-4f2e-a225-7f519d274180",
   "metadata": {},
   "outputs": [],
   "source": [
    "fig = plt.figure(figsize=(3,3))\n",
    "display = afw_display.Display(frame=fig)\n",
    "display.scale('asinh', 'zscale')\n",
    "display.mtv(calexp.image)\n",
    "plt.show()"
   ]
  },
  {
   "cell_type": "code",
   "execution_count": null,
   "id": "66bcfac7-d835-4068-9970-43b59e53473f",
   "metadata": {},
   "outputs": [],
   "source": [
    "cutoutSize = geom.ExtentI(301, 301)\n",
    "\n",
    "xy1 = geom.PointI(2250, 700)\n",
    "bbox1 = geom.BoxI(xy1 - cutoutSize // 2, cutoutSize)\n",
    "\n",
    "xy2 = geom.PointI(400, 1750)\n",
    "bbox2 = geom.BoxI(xy2 - cutoutSize // 2, cutoutSize)"
   ]
  },
  {
   "cell_type": "code",
   "execution_count": null,
   "id": "430b2a34-ca4a-44e6-a537-badd39f36719",
   "metadata": {},
   "outputs": [],
   "source": [
    "cutout1 = calexp.Factory(calexp, bbox1)\n",
    "cutout2 = calexp.Factory(calexp, bbox2)"
   ]
  },
  {
   "cell_type": "code",
   "execution_count": null,
   "id": "84f02bbe-0700-49dc-bb72-cfcbca463448",
   "metadata": {},
   "outputs": [],
   "source": [
    "fig = plt.figure(figsize=(3, 3))\n",
    "display = afw_display.Display(frame=fig)\n",
    "display.scale('asinh', 'zscale')\n",
    "display.mtv(cutout1.image)\n",
    "plt.show()"
   ]
  },
  {
   "cell_type": "code",
   "execution_count": null,
   "id": "86ad2255-44bd-4339-9866-c4ff723f7d01",
   "metadata": {},
   "outputs": [],
   "source": [
    "fig = plt.figure(figsize=(3, 3))\n",
    "display = afw_display.Display(frame=fig)\n",
    "display.scale('asinh', 'zscale')\n",
    "display.mtv(cutout2.image)\n",
    "plt.show()"
   ]
  },
  {
   "cell_type": "code",
   "execution_count": null,
   "id": "71929a34-504c-4942-8e3d-4f9075ea1c86",
   "metadata": {},
   "outputs": [],
   "source": []
  }
 ],
 "metadata": {
  "kernelspec": {
   "display_name": "LSST",
   "language": "python",
   "name": "lsst"
  },
  "language_info": {
   "codemirror_mode": {
    "name": "ipython",
    "version": 3
   },
   "file_extension": ".py",
   "mimetype": "text/x-python",
   "name": "python",
   "nbconvert_exporter": "python",
   "pygments_lexer": "ipython3",
   "version": "3.12.11"
  }
 },
 "nbformat": 4,
 "nbformat_minor": 5
}
